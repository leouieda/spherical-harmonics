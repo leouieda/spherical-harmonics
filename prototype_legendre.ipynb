{
 "cells": [
  {
   "cell_type": "markdown",
   "id": "9a80f179-2fed-4270-91de-399a0fd1d0b0",
   "metadata": {},
   "source": [
    "See [Holmes, W. E. Featherstone (2002)](https://doi.org/10.1007/s00190-002-0216-2) and [Wieczorek and Meschede (2018)](https://doi.org/10.1029/2018GC007529)"
   ]
  },
  {
   "cell_type": "code",
   "execution_count": 1,
   "id": "4d58c7e2-431c-4134-a3d9-31c10560a620",
   "metadata": {},
   "outputs": [],
   "source": [
    "import numpy as np\n",
    "import numba as nb\n",
    "import sympy"
   ]
  },
  {
   "cell_type": "code",
   "execution_count": 3,
   "id": "db9ea2f8-4329-430e-b006-f675db5a3770",
   "metadata": {},
   "outputs": [],
   "source": [
    "def associated_legendre_functions_sympy(x, degree, order):\n",
    "    \"\"\"\n",
    "    Calcula a função associada de Legendre de grau n e ordem m.\n",
    "    Avalia a função no(s) valor(es) de x.\n",
    "    x pode ser um único número ou um numpy array.\n",
    "    \"\"\"\n",
    "    # Usa o sympy para calcular a função simbólicamente\n",
    "    argumento = sympy.symbols(\"x\")\n",
    "    pnm_simbolico = sympy.functions.special.polynomials.assoc_legendre(degree, order, argumento)\n",
    "    pnm_numerico = sympy.lambdify(argumento, pnm_simbolico)\n",
    "    return pnm_numerico(x)"
   ]
  },
  {
   "cell_type": "code",
   "execution_count": null,
   "id": "6a399162-a578-4993-a5b5-59fc057fc4d5",
   "metadata": {},
   "outputs": [],
   "source": [
    "def associated_legendre_functions(x, maximum_degree):\n",
    "    plm = np.empty(sum(range(1, maximum_degree + 2)))\n",
    "    plm[0] = 1\n",
    "    plm[1] = x\n",
    "    plm[2] = np.sqrt(1 - x**2)\n",
    "    index = 3\n",
    "    for n in range(2, maximum_degree + 1):        \n",
    "        for m in range(n + 1):\n",
    "            \n",
    "            index += 1"
   ]
  },
  {
   "cell_type": "code",
   "execution_count": null,
   "id": "799dcf96-aea5-4405-ad69-8bd9d6e0c0db",
   "metadata": {},
   "outputs": [],
   "source": [
    "degree, order = 10, "
   ]
  },
  {
   "cell_type": "code",
   "execution_count": 7,
   "id": "c06cc778-50e7-43e7-8fe2-cee33e798233",
   "metadata": {},
   "outputs": [
    {
     "data": {
      "text/plain": [
       "10"
      ]
     },
     "execution_count": 7,
     "metadata": {},
     "output_type": "execute_result"
    }
   ],
   "source": [
    "sum(range(1, 3 + 2))"
   ]
  },
  {
   "cell_type": "code",
   "execution_count": null,
   "id": "5bba8850-b943-413b-b1d9-0e2ffac3bc0f",
   "metadata": {},
   "outputs": [],
   "source": []
  }
 ],
 "metadata": {
  "kernelspec": {
   "display_name": "Python [conda env:spherical-harmonics]",
   "language": "python",
   "name": "conda-env-spherical-harmonics-py"
  },
  "language_info": {
   "codemirror_mode": {
    "name": "ipython",
    "version": 3
   },
   "file_extension": ".py",
   "mimetype": "text/x-python",
   "name": "python",
   "nbconvert_exporter": "python",
   "pygments_lexer": "ipython3",
   "version": "3.11.0"
  }
 },
 "nbformat": 4,
 "nbformat_minor": 5
}
